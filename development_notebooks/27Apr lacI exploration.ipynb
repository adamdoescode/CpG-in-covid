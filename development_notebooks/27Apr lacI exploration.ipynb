{
 "cells": [
  {
   "cell_type": "code",
   "execution_count": 1,
   "metadata": {},
   "outputs": [],
   "source": [
    "import Bio\n",
    "from Bio import SeqIO\n",
    "from Bio.Seq import Seq\n",
    "\n",
    "from collections import Counter\n",
    "import numpy as np"
   ]
  },
  {
   "cell_type": "code",
   "execution_count": 2,
   "metadata": {},
   "outputs": [],
   "source": [
    "def windowed_base_count(sequence, k_window=1):\n",
    "    '''\n",
    "    This will return the same result as DAMBE for pairs of residues.\n",
    "    sequence is a string that you want to know the count of k_sized sub_strings for\n",
    "    k_window will define how large your sub_strings are.\n",
    "    For DNA: k_window = 1 gives {A,T,C,G}\n",
    "    k_window = 2 gives {AT, TT, TA, AA, AG, GG, GT, AC, CC, CT, TC, CA, CG, GA, TG, GC}\n",
    "    '''\n",
    "    sequence_pairs = []\n",
    "\n",
    "    for i in range(0,len(sequence)-(k_window-1)):\n",
    "        sequence_pairs.append(str(sequence[i:i+k_window]))\n",
    "\n",
    "    return Counter(sequence_pairs)"
   ]
  },
  {
   "cell_type": "code",
   "execution_count": 3,
   "metadata": {},
   "outputs": [
    {
     "output_type": "execute_result",
     "data": {
      "text/plain": "SeqRecord(seq=Seq('GTGAAACCAGTAACGTTATACGATGTCGCAGAGTATGCCGGTGTCTCTTATCAG...TGA', SingleLetterAlphabet()), id='NC_000913.3:c367510-366428', name='NC_000913.3:c367510-366428', description='NC_000913.3:c367510-366428 Escherichia coli str. K-12 substr. MG1655, complete genome', dbxrefs=[])"
     },
     "metadata": {},
     "execution_count": 3
    }
   ],
   "source": [
    "lacI = SeqIO.read(\"EcoliK12_lacI.fasta\", \"fasta\")\n",
    "lacI"
   ]
  },
  {
   "cell_type": "code",
   "execution_count": 4,
   "metadata": {},
   "outputs": [
    {
     "output_type": "execute_result",
     "data": {
      "text/plain": "Counter({'G': 311, 'T': 233, 'A': 240, 'C': 299})"
     },
     "metadata": {},
     "execution_count": 4
    }
   ],
   "source": [
    "single_bases = windowed_base_count(lacI.seq)\n",
    "single_bases"
   ]
  },
  {
   "cell_type": "code",
   "execution_count": 5,
   "metadata": {},
   "outputs": [
    {
     "output_type": "stream",
     "name": "stdout",
     "text": "Counter({'GC': 109, 'CG': 95, 'TG': 87, 'GG': 81, 'CA': 77, 'AA': 75, 'CC': 68, 'TC': 66, 'GT': 64, 'AT': 61, 'CT': 59, 'GA': 57, 'AC': 56, 'TT': 49, 'AG': 47, 'TA': 31})\n"
    }
   ],
   "source": [
    "multi_bases = windowed_base_count(lacI.seq, k_window=2)\n",
    "print(multi_bases)"
   ]
  },
  {
   "cell_type": "code",
   "execution_count": 6,
   "metadata": {},
   "outputs": [
    {
     "output_type": "execute_result",
     "data": {
      "text/plain": "1.1074437600186011"
     },
     "metadata": {},
     "execution_count": 6
    }
   ],
   "source": [
    "sum_singles = np.sum(list(single_bases.values()))\n",
    "sum_multis = np.sum(list(multi_bases.values()))\n",
    "I_CpG = (multi_bases['CG']/sum_multis)/((single_bases['C']/sum_singles)*(single_bases['G']/sum_singles))\n",
    "I_CpG"
   ]
  },
  {
   "cell_type": "code",
   "execution_count": null,
   "metadata": {},
   "outputs": [],
   "source": []
  },
  {
   "cell_type": "code",
   "execution_count": null,
   "metadata": {},
   "outputs": [],
   "source": []
  }
 ],
 "metadata": {
  "kernelspec": {
   "display_name": "Python 3",
   "language": "python",
   "name": "python3"
  },
  "language_info": {
   "codemirror_mode": {
    "name": "ipython",
    "version": 3
   },
   "file_extension": ".py",
   "mimetype": "text/x-python",
   "name": "python",
   "nbconvert_exporter": "python",
   "pygments_lexer": "ipython3",
   "version": "3.7.3-final"
  }
 },
 "nbformat": 4,
 "nbformat_minor": 4
}