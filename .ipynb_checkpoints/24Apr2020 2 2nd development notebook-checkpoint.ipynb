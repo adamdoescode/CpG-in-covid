{
 "cells": [
  {
   "cell_type": "code",
   "execution_count": null,
   "metadata": {},
   "outputs": [],
   "source": []
  },
  {
   "cell_type": "markdown",
   "metadata": {},
   "source": [
    "# Development notebook"
   ]
  },
  {
   "cell_type": "markdown",
   "metadata": {},
   "source": [
    "Useful links written by the author:  \n",
    "[Lay person's clarification on paper's results and conclusions.](https://www.linkedin.com/pulse/where-dog-laymans-version-my-mbe-paper-xuhua-xia/)  \n",
    "[Paper to cite for DAMBE7](https://academic.oup.com/mbe/article/35/6/1550/4970565)  \n",
    "[DAMBE website](http://dambe.bio.uottawa.ca/DAMBE/dambe.aspx)  "
   ]
  },
  {
   "cell_type": "code",
   "execution_count": 1,
   "metadata": {},
   "outputs": [],
   "source": [
    "import Bio\n",
    "from Bio import SeqIO\n",
    "from Bio.Seq import Seq\n",
    "\n",
    "import numpy as np\n",
    "\n",
    "from random import choices\n",
    "from collections import Counter\n",
    "\n",
    "import time\n",
    "\n",
    "import matplotlib.pyplot as plt"
   ]
  },
  {
   "cell_type": "code",
   "execution_count": 2,
   "metadata": {},
   "outputs": [
    {
     "data": {
      "text/plain": [
       "SeqRecord(seq=Seq('ATTAAAGGTTTATACCTTCCCAGGTAACAAACCAACCAACTTTCGATCTCTTGT...AAA', IUPACAmbiguousDNA()), id='NC_045512.2', name='NC_045512', description='Severe acute respiratory syndrome coronavirus 2 isolate Wuhan-Hu-1, complete genome', dbxrefs=['BioProject:PRJNA485481'])"
      ]
     },
     "execution_count": 2,
     "metadata": {},
     "output_type": "execute_result"
    }
   ],
   "source": [
    "covid19Ref = SeqIO.read(\"covid19ref.gb\", \"genbank\")\n",
    "covid19Ref"
   ]
  },
  {
   "cell_type": "markdown",
   "metadata": {},
   "source": [
    "# Useful functions go here\n",
    "So that I can execute them anywhere"
   ]
  },
  {
   "cell_type": "code",
   "execution_count": 3,
   "metadata": {},
   "outputs": [],
   "source": [
    "def generate_random_sequence(k, weights):\n",
    "    '''\n",
    "    Generates a random sequence using random.choices()\n",
    "    Weights is a list of weightings for each choice. If you assume sum(weights) = 1 \n",
    "    you can then state that these weights are probabilities for each choice.\n",
    "    weights list should be in order: ['A','T','C','G']\n",
    "    '''\n",
    "    random_seq_list = choices(['A','T','C','G'], weights=weights, k=k)\n",
    "    random_sequence = Seq(\"\".join(random_seq_list))\n",
    "    return random_sequence\n",
    "\n",
    "def windowed_base_count(sequence, k_window=1):\n",
    "    '''\n",
    "    This will return the same result as DAMBE for pairs of residues.\n",
    "    sequence is a string that you want to know the count of k_sized sub_strings for\n",
    "    k_window will define how large your sub_strings are.\n",
    "    For DNA: k_window = 1 gives {A,T,C,G}\n",
    "    k_window = 2 gives {AT, TT, TA, AA, AG, GG, GT, AC, CC, CT, TC, CA, CG, GA, TG, GC}\n",
    "    '''\n",
    "    sequence_pairs = []\n",
    "\n",
    "    for i in range(0,len(sequence)-(k_window-1)):\n",
    "        sequence_pairs.append(str(covid19Ref.seq[i:i+k_window]))\n",
    "\n",
    "    return Counter(sequence_pairs)"
   ]
  },
  {
   "cell_type": "markdown",
   "metadata": {},
   "source": [
    "# Single bases and double bases frequency counts in Covid19ref.gb\n",
    "These are the frequencies of stand alone bases and all possible doubles in covid19 reference genome"
   ]
  },
  {
   "cell_type": "markdown",
   "metadata": {},
   "source": [
    "For covid19ref.gb the DAMBE single base frequencies are: A: 8954 T: 9594 C: 5492 G: 5863  \n",
    "The pairs are: 'AT': 2308, 'TT': 3215, 'TA': 2377, 'AA': 2880, 'AG': 1742, 'GG': 1093, 'GT': 1990, 'AC': 2023, 'CC': 888, 'CT': 2081, 'TC': 1413, 'CA': 2084, 'CG': 439, 'GA': 1612, 'TG': 2589, 'GC': 1168"
   ]
  },
  {
   "cell_type": "code",
   "execution_count": 4,
   "metadata": {},
   "outputs": [
    {
     "name": "stdout",
     "output_type": "stream",
     "text": [
      "Counter({'T': 9594, 'A': 8954, 'G': 5863, 'C': 5492})\n",
      "Counter({'TT': 3215, 'AA': 2880, 'TG': 2589, 'TA': 2377, 'AT': 2308, 'CA': 2084, 'CT': 2081, 'AC': 2023, 'GT': 1990, 'AG': 1742, 'GA': 1612, 'TC': 1413, 'GC': 1168, 'GG': 1093, 'CC': 888, 'CG': 439})\n"
     ]
    }
   ],
   "source": [
    "covid_singles = windowed_base_count(covid19Ref, k_window=1)\n",
    "print(covid_singles)\n",
    "covid_doubles = windowed_base_count(covid19Ref, k_window=2)\n",
    "print(covid_doubles)"
   ]
  },
  {
   "cell_type": "markdown",
   "metadata": {},
   "source": [
    "## Plots of single and double base frequencies in covid19 reference genome"
   ]
  },
  {
   "cell_type": "code",
   "execution_count": 15,
   "metadata": {},
   "outputs": [
    {
     "data": {
      "image/png": "[encoded data removed]",
      "text/plain": [
       "<Figure size 720x720 with 2 Axes>"
      ]
     },
     "metadata": {
      "needs_background": "light"
     },
     "output_type": "display_data"
    }
   ],
   "source": [
    "#plot this\n",
    "fig, ax = plt.subplots(2, figsize=(10,10))\n",
    "\n",
    "i = 0\n",
    "for results in [covid_singles, covid_doubles]:\n",
    "    x = list(results.keys())\n",
    "    heights = list(results.values())\n",
    "    ax[i].bar(x,heights)\n",
    "    ax[i].set_xlabel('sequence pairs')\n",
    "    ax[i].set_ylabel('absolute count')\n",
    "    i += 1\n",
    "\n",
    "#matplotlib does not like recieving hashes so need to replace with list()\n",
    "ax[0].plot(list(covid_singles.keys()),[7475 for x in range(0,len(covid_singles.keys()))], 'orange')\n",
    "\n",
    "#the E(x) for each doublet of bases is E(single_base)/4 since each doublet event is not independent of all other doublet events.\n",
    "ax[1].plot(x,[7475/4 for x in range(0,len(covid_doubles.keys()))], 'orange')\n",
    "\n",
    "plt.show()"
   ]
  },
  {
   "cell_type": "code",
   "execution_count": null,
   "metadata": {},
   "outputs": [],
   "source": []
  }
 ],
 "metadata": {
  "kernelspec": {
   "display_name": "Python 3",
   "language": "python",
   "name": "python3"
  },
  "language_info": {
   "codemirror_mode": {
    "name": "ipython",
    "version": 3
   },
   "file_extension": ".py",
   "mimetype": "text/x-python",
   "name": "python",
   "nbconvert_exporter": "python",
   "pygments_lexer": "ipython3",
   "version": "3.6.10"
  }
 },
 "nbformat": 4,
 "nbformat_minor": 4
}
