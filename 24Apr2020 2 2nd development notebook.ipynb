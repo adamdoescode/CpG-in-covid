{
 "cells": [
  {
   "cell_type": "markdown",
   "metadata": {},
   "source": [
    "# Development notebook"
   ]
  },
  {
   "cell_type": "markdown",
   "metadata": {},
   "source": [
    "Useful links written by the author:  \n",
    "[Lay person's clarification on paper's results and conclusions.](https://www.linkedin.com/pulse/where-dog-laymans-version-my-mbe-paper-xuhua-xia/)  \n",
    "[Paper to cite for DAMBE7](https://academic.oup.com/mbe/article/35/6/1550/4970565)  \n",
    "[DAMBE website](http://dambe.bio.uottawa.ca/DAMBE/dambe.aspx)  "
   ]
  },
  {
   "cell_type": "code",
   "execution_count": 1,
   "metadata": {},
   "outputs": [],
   "source": [
    "import Bio\n",
    "from Bio import SeqIO\n",
    "from Bio.Seq import Seq\n",
    "\n",
    "import numpy as np\n",
    "\n",
    "from random import choices\n",
    "from collections import Counter\n",
    "\n",
    "import time\n",
    "\n",
    "import matplotlib.pyplot as plt"
   ]
  },
  {
   "cell_type": "code",
   "execution_count": 2,
   "metadata": {},
   "outputs": [
    {
     "data": {
      "text/plain": [
       "SeqRecord(seq=Seq('ATTAAAGGTTTATACCTTCCCAGGTAACAAACCAACCAACTTTCGATCTCTTGT...AAA', IUPACAmbiguousDNA()), id='NC_045512.2', name='NC_045512', description='Severe acute respiratory syndrome coronavirus 2 isolate Wuhan-Hu-1, complete genome', dbxrefs=['BioProject:PRJNA485481'])"
      ]
     },
     "execution_count": 2,
     "metadata": {},
     "output_type": "execute_result"
    }
   ],
   "source": [
    "covid19Ref = SeqIO.read(\"covid19ref.gb\", \"genbank\")\n",
    "covid19Ref"
   ]
  },
  {
   "cell_type": "markdown",
   "metadata": {},
   "source": [
    "# Useful functions go here\n",
    "So that I can execute them anywhere"
   ]
  },
  {
   "cell_type": "code",
   "execution_count": 3,
   "metadata": {},
   "outputs": [],
   "source": [
    "def generate_random_sequence(k, weights):\n",
    "    '''\n",
    "    Generates a random sequence using random.choices()\n",
    "    Weights is a list of weightings for each choice. If you assume sum(weights) = 1 \n",
    "    you can then state that these weights are probabilities for each choice.\n",
    "    weights list should be in order: ['A','T','C','G']\n",
    "    '''\n",
    "    random_seq_list = choices(['A','T','C','G'], weights=weights, k=k)\n",
    "    random_sequence = Seq(\"\".join(random_seq_list))\n",
    "    return random_sequence\n",
    "\n",
    "def windowed_base_count(sequence, k_window=1):\n",
    "    '''\n",
    "    This will return the same result as DAMBE for pairs of residues.\n",
    "    sequence is a Bio.Seq object that you want to know the count of k_sized sub_strings for\n",
    "    k_window will define how large your sub_strings are.\n",
    "    For DNA: k_window = 1 gives {A,T,C,G}\n",
    "    k_window = 2 gives {AT, TT, TA, AA, AG, GG, GT, AC, CC, CT, TC, CA, CG, GA, TG, GC}\n",
    "    '''\n",
    "    sequence_pairs = []\n",
    "\n",
    "    for i in range(0,len(sequence)-(k_window-1)):\n",
    "        sequence_pairs.append(str(sequence.seq[i:i+k_window]))\n",
    "\n",
    "    return Counter(sequence_pairs)\n",
    "\n",
    "def calculate_icpg(singles, doubles, diagnostic_print = False):\n",
    "    '''\n",
    "    Calculates simple Icpg values given frequency hashes (dict obj) from windowed_base_count \n",
    "    where singles is k_window=1 and doubles is k_window=2.\n",
    "    Returns Icpg as float.\n",
    "    diagnostic_print == True will return relevant frequency values\n",
    "    '''\n",
    "    #calculate frequencies from dict frequency hashes. Currently includes things that are not needed.\n",
    "    f_CG = doubles['CG']/sum(doubles.values())\n",
    "    f_AT = doubles['AT']/sum(doubles.values())\n",
    "    f_TA = doubles['TA']/sum(doubles.values())\n",
    "    f_GC = doubles['GC']/sum(doubles.values())\n",
    "    f_G = singles['G']/sum(singles.values())\n",
    "    f_C = singles['C']/sum(singles.values())\n",
    "    f_A = singles['A']/sum(singles.values())\n",
    "    f_T = singles['T']/sum(singles.values())\n",
    "    \n",
    "    if diagnostic_print == True:\n",
    "        print('f(CG) = %.3f f(G) = %.3f, f(C) = %.3f'%(f_CG, f_G, f_C))\n",
    "        print('f(CG) = %.3f f(GC) = %.3f'%(f_CG, f_GC))\n",
    "\n",
    "    return f_CG/(f_G*f_C)"
   ]
  },
  {
   "cell_type": "markdown",
   "metadata": {},
   "source": [
    "# Single bases and double bases frequency counts in Covid19ref.gb\n",
    "These are the frequencies of stand alone bases and all possible doubles in covid19 reference genome"
   ]
  },
  {
   "cell_type": "markdown",
   "metadata": {},
   "source": [
    "For covid19ref.gb the DAMBE single base frequencies are: A: 8954 T: 9594 C: 5492 G: 5863  \n",
    "The pairs are: 'AT': 2308, 'TT': 3215, 'TA': 2377, 'AA': 2880, 'AG': 1742, 'GG': 1093, 'GT': 1990, 'AC': 2023, 'CC': 888, 'CT': 2081, 'TC': 1413, 'CA': 2084, 'CG': 439, 'GA': 1612, 'TG': 2589, 'GC': 1168"
   ]
  },
  {
   "cell_type": "code",
   "execution_count": 4,
   "metadata": {},
   "outputs": [
    {
     "name": "stdout",
     "output_type": "stream",
     "text": [
      "Counter({'T': 9594, 'A': 8954, 'G': 5863, 'C': 5492})\n",
      "Counter({'TT': 3215, 'AA': 2880, 'TG': 2589, 'TA': 2377, 'AT': 2308, 'CA': 2084, 'CT': 2081, 'AC': 2023, 'GT': 1990, 'AG': 1742, 'GA': 1612, 'TC': 1413, 'GC': 1168, 'GG': 1093, 'CC': 888, 'CG': 439})\n"
     ]
    }
   ],
   "source": [
    "covid_singles = windowed_base_count(covid19Ref, k_window=1)\n",
    "print(covid_singles)\n",
    "covid_doubles = windowed_base_count(covid19Ref, k_window=2)\n",
    "print(covid_doubles)"
   ]
  },
  {
   "cell_type": "markdown",
   "metadata": {},
   "source": [
    "### Percent GC"
   ]
  },
  {
   "cell_type": "code",
   "execution_count": 5,
   "metadata": {},
   "outputs": [
    {
     "data": {
      "text/plain": [
       "0.3797277865097147"
      ]
     },
     "execution_count": 5,
     "metadata": {},
     "output_type": "execute_result"
    }
   ],
   "source": [
    "(covid_singles['C']+covid_singles['G'])/len(covid19Ref)"
   ]
  },
  {
   "cell_type": "markdown",
   "metadata": {},
   "source": [
    "## Plots of single and double base frequencies in covid19 reference genome"
   ]
  },
  {
   "cell_type": "code",
   "execution_count": 6,
   "metadata": {},
   "outputs": [
    {
     "data": {
      "image/png": "[encoded data removed]",
      "text/plain": [
       "<Figure size 720x720 with 2 Axes>"
      ]
     },
     "metadata": {
      "needs_background": "light"
     },
     "output_type": "display_data"
    }
   ],
   "source": [
    "#plot this\n",
    "fig, ax = plt.subplots(2, figsize=(10,10))\n",
    "\n",
    "i = 0\n",
    "for results in [covid_singles, covid_doubles]:\n",
    "    x = list(results.keys())\n",
    "    heights = list(results.values())\n",
    "    ax[i].bar(x,heights)\n",
    "    ax[i].set_xlabel('sequence pairs')\n",
    "    ax[i].set_ylabel('absolute count')\n",
    "    i += 1\n",
    "\n",
    "#matplotlib does not like recieving hashes so need to replace with list()\n",
    "ax[0].plot(list(covid_singles.keys()),[7475 for x in range(0,len(covid_singles.keys()))], 'orange')\n",
    "\n",
    "#the E(x) for each doublet of bases is E(single_base)/4 since each doublet event is not independent of all other doublet events.\n",
    "ax[1].plot(x,[7475/4 for x in range(0,len(covid_doubles.keys()))], 'orange')\n",
    "\n",
    "plt.show()"
   ]
  },
  {
   "cell_type": "markdown",
   "metadata": {},
   "source": [
    "# Icpg calculation for single strand\n",
    "This is just F(XY)/(F(X)\\*F(Y)) where F() is frequency and X = C, Y = G. This is described in DAMBE."
   ]
  },
  {
   "cell_type": "code",
   "execution_count": 7,
   "metadata": {},
   "outputs": [
    {
     "data": {
      "text/plain": [
       "0.40770250703397937"
      ]
     },
     "execution_count": 7,
     "metadata": {},
     "output_type": "execute_result"
    }
   ],
   "source": [
    "calculate_icpg(covid_singles, covid_doubles)"
   ]
  },
  {
   "cell_type": "markdown",
   "metadata": {},
   "source": [
    "# including symmetry\n",
    "Include the complimentary base which I think will account for frequencies of the same nucleotide/dinucleotide on the reverse strand heading in the 3'-->5' direction"
   ]
  },
  {
   "cell_type": "markdown",
   "metadata": {},
   "source": [
    "Not same answer as DAMBE (0.4073)"
   ]
  },
  {
   "cell_type": "code",
   "execution_count": 12,
   "metadata": {},
   "outputs": [],
   "source": [
    "#lets try this manually\n",
    "#first lets get reverse compliment\n",
    "covid19_rev = covid19Ref.reverse_complement()\n",
    "#now get frequency tables\n",
    "covid19_rev_singles = windowed_base_count(covid19_rev, k_window=1)\n",
    "covid19_rev_doubles = windowed_base_count(covid19_rev, k_window=2)"
   ]
  },
  {
   "cell_type": "code",
   "execution_count": 16,
   "metadata": {},
   "outputs": [
    {
     "name": "stdout",
     "output_type": "stream",
     "text": [
      "Counter({'T': 9594, 'A': 8954, 'G': 5863, 'C': 5492})\n",
      "Counter({'A': 9594, 'T': 8954, 'C': 5863, 'G': 5492})\n"
     ]
    }
   ],
   "source": [
    "#we can see that A == T G ==C etc.\n",
    "print(covid_singles, '\\n', covid19_rev_singles, sep='')"
   ]
  },
  {
   "cell_type": "markdown",
   "metadata": {},
   "source": [
    "### Doubles will behave differently depending on purine or pyrimidine status\n",
    "A pairs with T  \n",
    "C pairs with G  \n",
    "Pairs of the same base (e.g. 'TT') will switch to 'AA' in the reverse compliment. That is, X1X2 to Y1Y2.  \n",
    "Pairs of purine-pyrimidine bases (e.g. 'TG') will change from purine_base+pyrimidine_base to pyrimidine_base+purine_base where the bases are the reverse compliment of the original. That is, X1Y2 to Y1X2.  \n",
    "Pairs of purine-purine or pyrimidine-pyrimidine bases will be exactly the same. That is, X1Y2 to X1Y2. They have technically reversed order, but because we always consider them from 5' end they are ordered the same when represented here."
   ]
  },
  {
   "cell_type": "code",
   "execution_count": 17,
   "metadata": {},
   "outputs": [
    {
     "name": "stdout",
     "output_type": "stream",
     "text": [
      "Counter({'TT': 3215, 'AA': 2880, 'TG': 2589, 'TA': 2377, 'AT': 2308, 'CA': 2084, 'CT': 2081, 'AC': 2023, 'GT': 1990, 'AG': 1742, 'GA': 1612, 'TC': 1413, 'GC': 1168, 'GG': 1093, 'CC': 888, 'CG': 439})\n",
      "Counter({'AA': 3215, 'TT': 2880, 'CA': 2589, 'TA': 2377, 'AT': 2308, 'TG': 2084, 'AG': 2081, 'GT': 2023, 'AC': 1990, 'CT': 1742, 'TC': 1612, 'GA': 1413, 'GC': 1168, 'CC': 1093, 'GG': 888, 'CG': 439})\n"
     ]
    }
   ],
   "source": [
    "#more complicated for doubles.\n",
    "print(covid_doubles, '\\n', covid19_rev_doubles, sep='')"
   ]
  },
  {
   "cell_type": "code",
   "execution_count": 18,
   "metadata": {},
   "outputs": [
    {
     "data": {
      "text/plain": [
       "0.40770250703397937"
      ]
     },
     "execution_count": 18,
     "metadata": {},
     "output_type": "execute_result"
    }
   ],
   "source": [
    "calculate_icpg(covid19_rev_singles, covid19_rev_doubles)"
   ]
  },
  {
   "cell_type": "markdown",
   "metadata": {},
   "source": [
    "'GT' for forward, should equal 'AC in reverse compliment sequence:"
   ]
  },
  {
   "cell_type": "code",
   "execution_count": 19,
   "metadata": {},
   "outputs": [
    {
     "data": {
      "text/plain": [
       "True"
      ]
     },
     "execution_count": 19,
     "metadata": {},
     "output_type": "execute_result"
    }
   ],
   "source": [
    "covid_doubles['GT'] == covid19_rev_doubles['AC']"
   ]
  },
  {
   "cell_type": "markdown",
   "metadata": {},
   "source": [
    "Calc symmetrized dsFrequency"
   ]
  },
  {
   "cell_type": "code",
   "execution_count": 33,
   "metadata": {},
   "outputs": [
    {
     "name": "stdout",
     "output_type": "stream",
     "text": [
      "0.407267\n"
     ]
    }
   ],
   "source": [
    "def symmetrized_Icpg(singles, doubles):\n",
    "    '''\n",
    "    Calculates symmetrized Icpg values using only frequencies \n",
    "    '''\n",
    "    f_CG = doubles['CG']/sum(doubles.values())\n",
    "    f_G = singles['G']/sum(singles.values())\n",
    "    f_C = singles['C']/sum(singles.values())\n",
    "\n",
    "    pCG = (2*(f_CG+f_CG))/((f_C+f_G)**2)\n",
    "    return pCG\n",
    "pCG = symmetrized_Icpg(covid_singles, covid_doubles)\n",
    "print('%.6f'%pCG)"
   ]
  },
  {
   "cell_type": "code",
   "execution_count": null,
   "metadata": {},
   "outputs": [],
   "source": []
  },
  {
   "cell_type": "code",
   "execution_count": null,
   "metadata": {},
   "outputs": [],
   "source": []
  },
  {
   "cell_type": "code",
   "execution_count": null,
   "metadata": {},
   "outputs": [],
   "source": []
  },
  {
   "cell_type": "code",
   "execution_count": null,
   "metadata": {},
   "outputs": [],
   "source": []
  }
 ],
 "metadata": {
  "kernelspec": {
   "display_name": "Python 3",
   "language": "python",
   "name": "python3"
  },
  "language_info": {
   "codemirror_mode": {
    "name": "ipython",
    "version": 3
   },
   "file_extension": ".py",
   "mimetype": "text/x-python",
   "name": "python",
   "nbconvert_exporter": "python",
   "pygments_lexer": "ipython3",
   "version": "3.7.3"
  }
 },
 "nbformat": 4,
 "nbformat_minor": 4
}
