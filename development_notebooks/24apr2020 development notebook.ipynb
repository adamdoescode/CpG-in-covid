{
 "cells": [
  {
   "cell_type": "markdown",
   "metadata": {},
   "source": [
    "# Development notebook"
   ]
  },
  {
   "cell_type": "markdown",
   "metadata": {},
   "source": [
    "Useful links written by the author:  \n",
    "[Lay person's clarification on paper's results and conclusions.](https://www.linkedin.com/pulse/where-dog-laymans-version-my-mbe-paper-xuhua-xia/)  \n",
    "[Paper to cite for DAMBE7](https://academic.oup.com/mbe/article/35/6/1550/4970565)  \n",
    "[DAMBE website](http://dambe.bio.uottawa.ca/DAMBE/dambe.aspx)  "
   ]
  },
  {
   "cell_type": "code",
   "execution_count": 52,
   "metadata": {},
   "outputs": [],
   "source": [
    "import Bio\n",
    "from Bio import SeqIO\n",
    "from Bio.Seq import Seq\n",
    "\n",
    "import numpy as np\n",
    "\n",
    "from random import choices\n",
    "from collections import Counter\n",
    "\n",
    "import time\n",
    "\n",
    "import matplotlib.pyplot as plt"
   ]
  },
  {
   "cell_type": "code",
   "execution_count": 35,
   "metadata": {},
   "outputs": [
    {
     "data": {
      "text/plain": [
       "SeqRecord(seq=Seq('ATTAAAGGTTTATACCTTCCCAGGTAACAAACCAACCAACTTTCGATCTCTTGT...AAA', IUPACAmbiguousDNA()), id='NC_045512.2', name='NC_045512', description='Severe acute respiratory syndrome coronavirus 2 isolate Wuhan-Hu-1, complete genome', dbxrefs=['BioProject:PRJNA485481'])"
      ]
     },
     "execution_count": 35,
     "metadata": {},
     "output_type": "execute_result"
    }
   ],
   "source": [
    "covid19Ref = SeqIO.read(\"covid19ref.gb\", \"genbank\")\n",
    "covid19Ref"
   ]
  },
  {
   "cell_type": "markdown",
   "metadata": {},
   "source": [
    "# Count every possible pair in genome\n",
    "We are interested in how possible pairs differ from the expected value. In a random model of genome formation we would expect the probability for each base being one of the four bases in our sample space {A,T,C,G} would be 1/4. We can explore this with a very simple model and a simple simulation.  "
   ]
  },
  {
   "cell_type": "markdown",
   "metadata": {},
   "source": [
    "## Benchmarking different search methods\n",
    "For covid19ref.gb the DAMBE single base frequencies are: A: 8954 T: 9594 C: 5492 G: 5863  \n",
    "The pairs are: 'AT': 2308, 'TT': 3215, 'TA': 2377, 'AA': 2880, 'AG': 1742, 'GG': 1093, 'GT': 1990, 'AC': 2023, 'CC': 888, 'CT': 2081, 'TC': 1413, 'CA': 2084, 'CG': 439, 'GA': 1612, 'TG': 2589, 'GC': 1168"
   ]
  },
  {
   "cell_type": "code",
   "execution_count": 60,
   "metadata": {},
   "outputs": [
    {
     "name": "stdout",
     "output_type": "stream",
     "text": [
      "0.0009965896606445312\n"
     ]
    }
   ],
   "source": [
    "start = time.time()\n",
    "base_count(covid19Ref.seq, bases)\n",
    "print(time.time()-start)"
   ]
  },
  {
   "cell_type": "markdown",
   "metadata": {},
   "source": [
    "## Multinomial model of random DNA sequences\n",
    "The simplest model for a DNA sequence is that a given position in a sequence can have one of four outcomes {A,T,C,G}, each of which we will call a `base`. Each with a probability of 0.25. Each position is choosen independently of the others in the string. We define the length of the string as being *n* trials long while each trial will have k = 4 outcomes of X = {A,T,C,G} where p(A) = p(T) = p(C) = p(G) = 0.25 and sum together to 1. From this we can pull useful descriptive statistics:  \n",
    "1. Expected value (the number we expect for this many trials) for each base will be E(x) = n\\*p(x) where x is one of {A,T,C,G}\n",
    "2. Variance for each `base` is Var(x) = n\\*p(x)\\*(1-p(x))"
   ]
  },
  {
   "cell_type": "code",
   "execution_count": 36,
   "metadata": {},
   "outputs": [
    {
     "name": "stdout",
     "output_type": "stream",
     "text": [
      "model parameters are n = 29903 p = 0.25\n",
      "expected value for each base is: 7475.8\n",
      "variance is: 5606.8\n"
     ]
    }
   ],
   "source": [
    "#model parameters \n",
    "n = len(covid19Ref) #length of covid19 ref genome is our number of trials\n",
    "p = 0.25 #no need to define for each base as they are all the same\n",
    "print('model parameters are n = %i p = %.2f'%(n,p))\n",
    "\n",
    "#expected value of outcome\n",
    "print('expected value for each base is: %.1f'%(n*p))\n",
    "\n",
    "#variance is...\n",
    "print('variance is: %.1f'%(n*p*(1-p)))"
   ]
  },
  {
   "cell_type": "markdown",
   "metadata": {},
   "source": [
    "## Simulation of random sequence\n",
    "Since this is a programming environment. It is also trivial to do a simulation of this random model where the only assumption is n = len(covid19 reference genome)."
   ]
  },
  {
   "cell_type": "code",
   "execution_count": 37,
   "metadata": {},
   "outputs": [
    {
     "data": {
      "text/plain": [
       "Seq('AACCGAATTTCTATGTGGCATTTTTCATGTTCGATCATAGGGCAGCGTGGCCTT...CCG')"
      ]
     },
     "execution_count": 37,
     "metadata": {},
     "output_type": "execute_result"
    }
   ],
   "source": [
    "def generate_random_sequence(k, weights):\n",
    "    '''\n",
    "    Generates a random sequence using random.choices()\n",
    "    Weights is a list of weightings for each choice. If you assume sum(weights) = 1 \n",
    "    you can then state that these weights are probabilities for each choice.\n",
    "    weights list should be in order: ['A','T','C','G']\n",
    "    '''\n",
    "    random_seq_list = choices(['A','T','C','G'], weights=weights, k=k)\n",
    "    random_sequence = Seq(\"\".join(random_seq_list))\n",
    "    return random_sequence\n",
    "a_random_sequence = generate_random_sequence(len(covid19Ref), [0.25,0.25,0.25,0.25])\n",
    "a_random_sequence"
   ]
  },
  {
   "cell_type": "markdown",
   "metadata": {},
   "source": [
    "### testing our model assumptions\n",
    "We can test our multinomial model fits our expectations using our simulated `a_random_sequence`.\n",
    "We can see that each base appears with the frequency we would expect would fit our model"
   ]
  },
  {
   "cell_type": "code",
   "execution_count": 38,
   "metadata": {},
   "outputs": [
    {
     "name": "stdout",
     "output_type": "stream",
     "text": [
      "For base A; count: 7464 proportion of all bases: 0.25\n",
      "For base T; count: 7446 proportion of all bases: 0.25\n",
      "For base C; count: 7555 proportion of all bases: 0.25\n",
      "For base G; count: 7438 proportion of all bases: 0.25\n"
     ]
    }
   ],
   "source": [
    "def base_count(sequence, base_list):\n",
    "    '''\n",
    "    Returns frequencies of occurance of each 'base' in base_list for the supplied sequence.\n",
    "    base_list can have bases that are actually multiple bases which is useful for examing\n",
    "    'CG' pairs later.\n",
    "    '''\n",
    "    base_counts = {}\n",
    "    for base in base_list:\n",
    "        base_counts[base] = sequence.count(base)\n",
    "    return base_counts\n",
    "bases = ['A','T','C','G']\n",
    "\n",
    "#cycle through results from base_count() to print formatted results\n",
    "randSeqBaseCounts =  base_count(a_random_sequence, bases)\n",
    "\n",
    "for base in randSeqBaseCounts:\n",
    "    print('For base %s; count: %i proportion of all bases: %.2f'%\n",
    "          (base, randSeqBaseCounts[base], randSeqBaseCounts[base]/len(covid19Ref)))"
   ]
  },
  {
   "cell_type": "code",
   "execution_count": 39,
   "metadata": {},
   "outputs": [
    {
     "data": {
      "text/plain": [
       "True"
      ]
     },
     "execution_count": 39,
     "metadata": {},
     "output_type": "execute_result"
    }
   ],
   "source": [
    "#making sure this sums to number of pairs in sequence\n",
    "len(covid19Ref) == sum(randSeqBaseCounts.values())"
   ]
  },
  {
   "cell_type": "markdown",
   "metadata": {},
   "source": [
    "## For multiple random sequences\n",
    "And we can do the same with a whole set of randomly generated sequences. Here `n` = 100 so that this cell runs quickly. We can see the average frequency for each base remains consistent.  \n",
    "Note that variance approaches our multinomial model when `n` = 1000"
   ]
  },
  {
   "cell_type": "code",
   "execution_count": 40,
   "metadata": {},
   "outputs": [],
   "source": [
    "#This takes a little to run so it gets it's own cell\n",
    "setOfRandomSequences = [generate_random_sequence(len(covid19Ref), [0.25,0.25,0.25,0.25]) for x in range(0,1000)]"
   ]
  },
  {
   "cell_type": "code",
   "execution_count": 41,
   "metadata": {},
   "outputs": [
    {
     "name": "stdout",
     "output_type": "stream",
     "text": [
      "For base A; avg count: 7474 variance: 5987.76 proportion of all bases: 0.25\n",
      "For base T; avg count: 7473 variance: 5827.84 proportion of all bases: 0.25\n",
      "For base C; avg count: 7480 variance: 6083.38 proportion of all bases: 0.25\n",
      "For base G; avg count: 7474 variance: 5054.26 proportion of all bases: 0.25\n"
     ]
    }
   ],
   "source": [
    "#this algorithm is bespoke since it is for a list of sequences. Might turn this into a function later.\n",
    "base_counts = {'A':[],'T':[],'C':[],'G':[]}\n",
    "#get frequencies of each base in sequence in our set of random sequences\n",
    "for sequence in setOfRandomSequences:\n",
    "    for base in base_counts:\n",
    "        base_counts[base].append(sequence.count(base))\n",
    "#loop through each base to print formatted results\n",
    "for base in base_counts:\n",
    "    print('For base %s; avg count: %i variance: %.2f proportion of all bases: %.2f'%\n",
    "          (base, np.mean(base_counts[base]), np.var(base_counts[base]), np.mean(base_counts[base])/len(covid19Ref)))"
   ]
  },
  {
   "cell_type": "markdown",
   "metadata": {},
   "source": [
    "## Examining the base frequencies in covid-19\n",
    "Covid19 will deviate significantly from this model since base composition is under strong selection pressure. Microorganisms and viruses are under a number of selective pressures that bias them towards having a higher proportion of A and T bases compared to C and G.  \n",
    "This is the same result as achieved with DAMBE:  \n",
    "A: 8954 T: 9594 C: 5492 G: 5863"
   ]
  },
  {
   "cell_type": "code",
   "execution_count": 42,
   "metadata": {},
   "outputs": [
    {
     "name": "stdout",
     "output_type": "stream",
     "text": [
      "For base A; count: 8954 proportion of all bases: 0.30\n",
      "For base T; count: 9594 proportion of all bases: 0.32\n",
      "For base C; count: 5492 proportion of all bases: 0.18\n",
      "For base G; count: 5863 proportion of all bases: 0.20\n"
     ]
    }
   ],
   "source": [
    "#cycle through results from base_count() to print formatted results\n",
    "CovidBaseCounts =  base_count(covid19Ref.seq, bases)\n",
    "\n",
    "for base in CovidBaseCounts:\n",
    "    print('For base %s; count: %i proportion of all bases: %.2f'%\n",
    "          (base, CovidBaseCounts[base], CovidBaseCounts[base]/len(covid19Ref)))"
   ]
  },
  {
   "cell_type": "markdown",
   "metadata": {},
   "source": [
    "## Adjusting the simulation based on covid-19 base frequencies\n",
    "We can adjust our weights based on the results above using the proportions given."
   ]
  },
  {
   "cell_type": "code",
   "execution_count": 43,
   "metadata": {},
   "outputs": [
    {
     "name": "stdout",
     "output_type": "stream",
     "text": [
      "For base A; avg count: 8221 variance: 564873.48 proportion of all bases: 0.27\n",
      "For base T; avg count: 8521 variance: 1105208.23 proportion of all bases: 0.28\n",
      "For base C; avg count: 6432 variance: 1103565.66 proportion of all bases: 0.22\n",
      "For base G; avg count: 6726 variance: 564345.12 proportion of all bases: 0.22\n"
     ]
    }
   ],
   "source": [
    "covid19_weights = [0.30,0.32,0.18,0.20]\n",
    "\n",
    "#generate 1000 sequences with the same weightings as covid19 bases\n",
    "setOfRandomSeqs_covidweights = [generate_random_sequence(k=len(covid19Ref), weights= covid19_weights) for x in range(0,1000)]\n",
    "\n",
    "randomSeq_base_counts_covidweights = {'A':[],'T':[],'C':[],'G':[]}\n",
    "\n",
    "#output some stats\n",
    "for sequence in setOfRandomSeqs_covidweights:\n",
    "    for base in randomSeq_base_counts_covidweights:\n",
    "        base_counts[base].append(sequence.count(base))\n",
    "#loop through each base to print formatted results\n",
    "for base in randomSeq_base_counts_covidweights:\n",
    "    print('For base %s; avg count: %i variance: %.2f proportion of all bases: %.2f'%\n",
    "          (base, np.mean(base_counts[base]), np.var(base_counts[base]), np.mean(base_counts[base])/len(covid19Ref)))"
   ]
  },
  {
   "cell_type": "markdown",
   "metadata": {},
   "source": [
    "# Counts of pairs of bases\n",
    "We can now extend our analysis to pairs of bases. We are ultimately interested in measuring the proportion of sequences that are *CpG*. *CpG* is short notation for \"Cytosine-phosphate-Guanine\" where \"phosphate\" refers to the phosphate group that is the linker molecule between any two bases in a nucleotide sequence. In other words *CpG* = 'CG'."
   ]
  },
  {
   "cell_type": "code",
   "execution_count": 44,
   "metadata": {},
   "outputs": [],
   "source": [
    "base_doubles = ['AT', 'TT', 'TA', 'AA', 'AG', 'GG', 'GT', 'AC', 'CC', 'CT', 'TC', 'CA', 'CG', 'GA', 'TG', 'GC'] #can't call them base_pairs since that refers to double stranded nucleotide pairs which this is not"
   ]
  },
  {
   "cell_type": "markdown",
   "metadata": {},
   "source": [
    "## Base-doublets in Covid-19 reference genome"
   ]
  },
  {
   "cell_type": "code",
   "execution_count": 45,
   "metadata": {},
   "outputs": [
    {
     "data": {
      "image/png": "[encoded data removed]",
      "text/plain": [
       "<Figure size 432x288 with 1 Axes>"
      ]
     },
     "metadata": {
      "needs_background": "light"
     },
     "output_type": "display_data"
    }
   ],
   "source": [
    "covid_base_doubles = base_count(covid19Ref.seq, base_doubles)\n",
    "\n",
    "#plot this\n",
    "x = list(covid_base_doubles.keys())\n",
    "heights = list(covid_base_doubles.values())\n",
    "plt.bar(x,heights)\n",
    "plt.xlabel('sequence pairs')\n",
    "plt.ylabel('absolute count')\n",
    "#the E(x) for each doublet of bases is E(single_base)/4 since each doublet event is not independent of all other doublet events.\n",
    "plt.plot(x,[7475/4 for x in range(0,len(x))], 'orange')\n",
    "plt.show()"
   ]
  },
  {
   "cell_type": "markdown",
   "metadata": {},
   "source": [
    "This method will find less doublets than DAMBE or the method using `Counter()` below"
   ]
  },
  {
   "cell_type": "code",
   "execution_count": 46,
   "metadata": {},
   "outputs": [
    {
     "data": {
      "text/plain": [
       "{'AT': 2308,\n",
       " 'TT': 2454,\n",
       " 'TA': 2377,\n",
       " 'AA': 2169,\n",
       " 'AG': 1742,\n",
       " 'GG': 973,\n",
       " 'GT': 1990,\n",
       " 'AC': 2023,\n",
       " 'CC': 784,\n",
       " 'CT': 2081,\n",
       " 'TC': 1413,\n",
       " 'CA': 2084,\n",
       " 'CG': 439,\n",
       " 'GA': 1612,\n",
       " 'TG': 2589,\n",
       " 'GC': 1168}"
      ]
     },
     "execution_count": 46,
     "metadata": {},
     "output_type": "execute_result"
    }
   ],
   "source": [
    "covid_base_doubles"
   ]
  },
  {
   "cell_type": "code",
   "execution_count": 47,
   "metadata": {},
   "outputs": [
    {
     "data": {
      "text/plain": [
       "0.9432498411530615"
      ]
     },
     "execution_count": 47,
     "metadata": {},
     "output_type": "execute_result"
    }
   ],
   "source": [
    "sum(covid_base_doubles.values())/len(covid19Ref)"
   ]
  },
  {
   "cell_type": "markdown",
   "metadata": {},
   "source": [
    "This cell will count every possible pair in the genome and output the results as a dict. Produces the same result as `DAMBE`."
   ]
  },
  {
   "cell_type": "code",
   "execution_count": 48,
   "metadata": {},
   "outputs": [
    {
     "data": {
      "image/png": "[encoded data removed]",
      "text/plain": [
       "<Figure size 432x288 with 1 Axes>"
      ]
     },
     "metadata": {
      "needs_background": "light"
     },
     "output_type": "display_data"
    }
   ],
   "source": [
    "sequence_pairs = []\n",
    "\n",
    "for i in range(0,len(covid19Ref.seq)-1):\n",
    "    sequence_pairs.append(str(covid19Ref.seq[i:i+2]))\n",
    "\n",
    "temp_seq_dict = Counter(sequence_pairs)\n",
    "#counter returns a seq object as the key in this list so need to replace with string\n",
    "seqpair_freq = {}\n",
    "for key in temp_seq_dict:\n",
    "    new_key = str(key)\n",
    "    seqpair_freq[new_key] = temp_seq_dict[key]\n",
    "\n",
    "#plot this\n",
    "x = list(seqpair_freq.keys())\n",
    "heights = list(seqpair_freq.values())\n",
    "plt.bar(x,heights)\n",
    "plt.xlabel('sequence pairs')\n",
    "plt.ylabel('absolute count')\n",
    "plt.plot(x,[7475/4 for x in range(0,len(x))], 'orange')\n",
    "plt.show()"
   ]
  },
  {
   "cell_type": "code",
   "execution_count": 49,
   "metadata": {},
   "outputs": [
    {
     "data": {
      "text/plain": [
       "0.999966558539277"
      ]
     },
     "execution_count": 49,
     "metadata": {},
     "output_type": "execute_result"
    }
   ],
   "source": [
    "sum(seqpair_freq.values())/len(covid19Ref)"
   ]
  },
  {
   "cell_type": "code",
   "execution_count": 50,
   "metadata": {},
   "outputs": [
    {
     "name": "stdout",
     "output_type": "stream",
     "text": [
      "{'AT': 2308, 'TT': 3215, 'TA': 2377, 'AA': 2880, 'AG': 1742, 'GG': 1093, 'GT': 1990, 'AC': 2023, 'CC': 888, 'CT': 2081, 'TC': 1413, 'CA': 2084, 'CG': 439, 'GA': 1612, 'TG': 2589, 'GC': 1168}\n"
     ]
    }
   ],
   "source": [
    "print(seqpair_freq)"
   ]
  },
  {
   "cell_type": "code",
   "execution_count": null,
   "metadata": {},
   "outputs": [],
   "source": []
  }
 ],
 "metadata": {
  "kernelspec": {
   "display_name": "Python 3",
   "language": "python",
   "name": "python3"
  },
  "language_info": {
   "codemirror_mode": {
    "name": "ipython",
    "version": 3
   },
   "file_extension": ".py",
   "mimetype": "text/x-python",
   "name": "python",
   "nbconvert_exporter": "python",
   "pygments_lexer": "ipython3",
   "version": "3.7.3"
  }
 },
 "nbformat": 4,
 "nbformat_minor": 4
}
